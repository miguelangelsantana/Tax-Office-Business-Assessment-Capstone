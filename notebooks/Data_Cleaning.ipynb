{
 "cells": [
  {
   "cell_type": "markdown",
   "metadata": {},
   "source": [
    "# Capstone | Data Cleaning\n",
    "\n",
    "## Small Business | Tax Office\n",
    "\n",
    "* Student name: Miguel Santana\n",
    "* Student pace: Full Time\n",
    "* Scheduled project review date/time: 11/28/2020, 2 PM\n",
    "* Instructor name: James Irving\n",
    "* Blog post: [Medium](https://msantana269.medium.com/clustering-customer-churn-time-series-b51c9f59d691)\n",
    "\n",
    "Follow the notebooks and analysis in the following order:\n",
    "\n",
    "1) Data_Cleaning.ipynb\n",
    "\n",
    "2) Clustering.ipynb\n",
    "\n",
    "3) Customer_Churn.ipynb"
   ]
  },
  {
   "cell_type": "markdown",
   "metadata": {},
   "source": [
    "## Abstract\n",
    "\n",
    "Through data exploration and analysis of clientele data over a three-year period, recommendations for business development are provided below. The three sections of our analysis are provided in the following notebooks: Data_Cleaning.ipynb, Clustering.ipynb and Customer_Churn.ipynb. The most significant loss for the office occurs in clients between the ages of 25 and 35 coming from single income households. Our analysis outlines strategies for targeted marketing and customer retention. "
   ]
  },
  {
   "cell_type": "markdown",
   "metadata": {},
   "source": [
    "## Methodology\n",
    "A business owner has tasked our team with analyzing their client base in order to understand customer retention as they run a seasonal tax office business. COVID-19 has severely compromised their ability to have face to face interactions with customers and this has been a long standing cornerstone of their business layout. Machine learning and deep learning algorithms will be used in order to process this request. Predictive models will offer the business owner key insight to be used in their end of year business meetings and planning as the 2021 tax season approaches. \n",
    "\n",
    "## Framework\n",
    "The OSEMN framework will be used to navigate the project, models and interpretations culminating in actionable business recommendations. \n",
    "\n",
    "The OSEMN Framework\n",
    "\n",
    "* Obtain  \n",
    "* Scrub\n",
    "* Explore \n",
    "* Model \n",
    "* Interpret"
   ]
  },
  {
   "cell_type": "markdown",
   "metadata": {},
   "source": [
    "## Importing Packages"
   ]
  },
  {
   "cell_type": "code",
   "execution_count": 1,
   "metadata": {
    "ExecuteTime": {
     "end_time": "2020-12-05T21:36:36.704554Z",
     "start_time": "2020-12-05T21:36:36.007858Z"
    }
   },
   "outputs": [],
   "source": [
    "import os\n",
    "import pandas as pd\n",
    "import pandasql as ps\n",
    "import numpy as np\n",
    "import seaborn as sns\n",
    "import matplotlib.pyplot as plt\n",
    "%matplotlib inline\n",
    "pd.set_option('mode.chained_assignment', None)\n",
    "plt.style.use('seaborn-poster') \n",
    "import warnings\n",
    "warnings.filterwarnings('ignore')"
   ]
  },
  {
   "cell_type": "markdown",
   "metadata": {},
   "source": [
    "# OBTAIN\n",
    "### Importing 2016, 2017 & 2018 Tax Returns"
   ]
  },
  {
   "cell_type": "code",
   "execution_count": 2,
   "metadata": {
    "ExecuteTime": {
     "end_time": "2020-12-05T21:36:36.742685Z",
     "start_time": "2020-12-05T21:36:36.706093Z"
    }
   },
   "outputs": [],
   "source": [
    "df16 = pd.read_csv('client16.csv')\n",
    "df17 = pd.read_csv('client17.csv')\n",
    "df18 = pd.read_csv('client18.csv')"
   ]
  },
  {
   "cell_type": "markdown",
   "metadata": {},
   "source": [
    "#### Focusing on electronic returns; each valid return (per year) should have some type of acknowledgment code (proof of transmission) in order to be considered in our analysis. "
   ]
  },
  {
   "cell_type": "code",
   "execution_count": 3,
   "metadata": {
    "ExecuteTime": {
     "end_time": "2020-12-05T21:36:36.751348Z",
     "start_time": "2020-12-05T21:36:36.744950Z"
    }
   },
   "outputs": [],
   "source": [
    "# Dropping non efiled returns prior to merging\n",
    "df16 = df16[df16['e-File ACK Date #1'].notna()]\n",
    "df17 = df17[df17['e-File ACK Date #1'].notna()]\n",
    "df18 = df18[df18['e-File ACK Date #1'].notna()]"
   ]
  },
  {
   "cell_type": "markdown",
   "metadata": {},
   "source": [
    "### Merging Files"
   ]
  },
  {
   "cell_type": "code",
   "execution_count": 4,
   "metadata": {
    "ExecuteTime": {
     "end_time": "2020-12-05T21:36:36.765104Z",
     "start_time": "2020-12-05T21:36:36.753014Z"
    }
   },
   "outputs": [],
   "source": [
    "# Merging on most current file\n",
    "df = pd.merge(df18,df16,how='outer',on='TP_ID')"
   ]
  },
  {
   "cell_type": "code",
   "execution_count": 5,
   "metadata": {
    "ExecuteTime": {
     "end_time": "2020-12-05T21:36:36.779111Z",
     "start_time": "2020-12-05T21:36:36.766579Z"
    }
   },
   "outputs": [],
   "source": [
    "# Merging on the updated file\n",
    "df = pd.merge(df,df17,how='outer',on='TP_ID')"
   ]
  },
  {
   "cell_type": "markdown",
   "metadata": {},
   "source": [
    "<div class=\"alert alert-block alert-info\">\n",
    "\n",
    "Unfortunately, the tax preparers entering data made several mistakes when entering client info and a merge on multiple columns leads to a significant loss in data. As a result, the column nulls will need to be filled with the respective columns of other years. After much trial an error, this has been discovered across almost every demographic column. The merge will begin with the most recent year, filling in only the older missing data.\n",
    "\n",
    "</div>"
   ]
  },
  {
   "cell_type": "markdown",
   "metadata": {},
   "source": [
    "# SCRUB\n",
    "Each data frame carries the same column values and as such when they are joined the first table's columns are denoted with the addition of a '_x', the second table's columns are denoted with '_y' and the third table's columns carry the original column name. \n",
    "\n",
    "In order to fill the demographics, null values per '_x' column (2018) will be filled by corresponding '_y' columns (2017). The remaining null values will then be filled by corresponding columns with the original name (2016). This process will only be applied to the demographic values.\n",
    "\n",
    "### Filing Demographics"
   ]
  },
  {
   "cell_type": "code",
   "execution_count": 6,
   "metadata": {
    "ExecuteTime": {
     "end_time": "2020-12-05T21:36:36.791998Z",
     "start_time": "2020-12-05T21:36:36.780683Z"
    }
   },
   "outputs": [],
   "source": [
    "fillcols=['FS','Age','Gender','Sp_Age','County','City','State','Zip',\n",
    "          'Email','TP_Occupation','SP_Occupation']\n",
    "for col in fillcols:\n",
    "    df[f'{col}_x'].fillna(df[f'{col}_y'],inplace=True)\n",
    "    df[f'{col}_x'].fillna(df[f'{col}'],inplace=True)"
   ]
  },
  {
   "cell_type": "markdown",
   "metadata": {},
   "source": [
    "## Dropping Unneeded 'Fill' Columns"
   ]
  },
  {
   "cell_type": "code",
   "execution_count": 7,
   "metadata": {
    "ExecuteTime": {
     "end_time": "2020-12-05T21:36:36.799460Z",
     "start_time": "2020-12-05T21:36:36.793377Z"
    }
   },
   "outputs": [],
   "source": [
    "# loop here for drops\n",
    "df = df.drop(['FS_y','FS','Age_y','Age','Gender_y','Gender','Sp_Age_y','Sp_Age',\n",
    "              'City_y','City','State_y','State','County_y','County','Zip_y','Zip',\n",
    "              'Email_y','Email','TP_Occupation_y','TP_Occupation','SP_Occupation_y',\n",
    "              'SP_Occupation','Type_x','Type_y','Type'],axis=1)"
   ]
  },
  {
   "cell_type": "markdown",
   "metadata": {},
   "source": [
    "## Renaming Merged Columns"
   ]
  },
  {
   "cell_type": "code",
   "execution_count": 8,
   "metadata": {
    "ExecuteTime": {
     "end_time": "2020-12-05T21:36:36.807318Z",
     "start_time": "2020-12-05T21:36:36.802368Z"
    }
   },
   "outputs": [],
   "source": [
    "df = df.rename(columns={'FS_x':'FamSize','TP_ID':'ID','Age_x':'Age','Gender_x':'Gender',\n",
    "                        'Sp_Age_x':'Sp_Age','City_x':'City','State_x':'State',\n",
    "                        'Zip_x':'Zip','County_x':'County','Email_x':'Email',\n",
    "                        'TP_Occupation_x':'Occupation','SP_Occupation_x':'Household_Income',\n",
    "                        'Preparer_x':'Preparer18','Ly_Fed_Tax_x':'FedTax18','AGI_x':'AGI18',\n",
    "                        'Prep_Fee_x':'Fee18','Paid_x':'Paid18','ADMN-Prep1_x':'ADMIN18',\n",
    "                        'e-File Product #1_x':'Efile18','e-File ACK Date #1_x':'EfileDate18',\n",
    "                        'e-File ACK Code #1_x':'Code18','Preparer_y':'Preparer16',\n",
    "                        'Ly_Fed_Tax_y':'FedTax16','AGI_y':'AGI16','Prep_Fee_y':'Fee16',\n",
    "                        'Paid_y':'Paid16','ADMN-Prep1_y':'ADMIN16','e-File Product #1_y':'Efile16',\n",
    "                        'e-File ACK Date #1_y':'EfileDate16','e-File ACK Code #1_y':'Code16',\n",
    "                        'Preparer':'Preparer17','Ly_Fed_Tax':'FedTax17','AGI':'AGI17',\n",
    "                        'Prep_Fee':'Fee17','Paid':'Paid17','ADMN-Prep1':'ADMIN17',\n",
    "                        'e-File Product #1':'Efile17','e-File ACK Date #1':'EfileDate17',\n",
    "                        'e-File ACK Code #1':'Code17'})"
   ]
  },
  {
   "cell_type": "markdown",
   "metadata": {},
   "source": [
    "#### Rearrangement for Aesthetics"
   ]
  },
  {
   "cell_type": "code",
   "execution_count": 9,
   "metadata": {
    "ExecuteTime": {
     "end_time": "2020-12-05T21:36:36.813824Z",
     "start_time": "2020-12-05T21:36:36.809553Z"
    }
   },
   "outputs": [],
   "source": [
    "# Reorder years: 2016, 2017, 2018\n",
    "df = df[['FamSize','ID','Gender','Age','Sp_Age','City','State','Zip','County',\n",
    "         'Email','Occupation','Household_Income','Preparer16','FedTax16','AGI16',\n",
    "         'Fee16','Paid16','Efile16','EfileDate16','Code16','Preparer17','FedTax17',\n",
    "         'AGI17','Fee17','Paid17','Efile17','EfileDate17','Code17','Preparer18',\n",
    "         'FedTax18','AGI18','Fee18','Paid18','Efile18','EfileDate18','Code18']]"
   ]
  },
  {
   "cell_type": "markdown",
   "metadata": {},
   "source": [
    "## Null Values\n",
    "#### Spouse Age"
   ]
  },
  {
   "cell_type": "code",
   "execution_count": 10,
   "metadata": {
    "ExecuteTime": {
     "end_time": "2020-12-05T21:36:36.819117Z",
     "start_time": "2020-12-05T21:36:36.815368Z"
    }
   },
   "outputs": [],
   "source": [
    "# Filling spouse ages \n",
    "df['Sp_Age'] = df['Sp_Age'].fillna(value=0)"
   ]
  },
  {
   "cell_type": "markdown",
   "metadata": {},
   "source": [
    "#### Federal Tax Liability"
   ]
  },
  {
   "cell_type": "code",
   "execution_count": 11,
   "metadata": {
    "ExecuteTime": {
     "end_time": "2020-12-05T21:36:36.823860Z",
     "start_time": "2020-12-05T21:36:36.820419Z"
    }
   },
   "outputs": [],
   "source": [
    "# Many low income customers have a zero dollar federal tax liability (owed to government)\n",
    "fedtax = ['FedTax16','FedTax17','FedTax18']\n",
    "for col in fedtax:\n",
    "    df[col] = df[col].fillna(value=0)"
   ]
  },
  {
   "cell_type": "markdown",
   "metadata": {},
   "source": [
    "#### Preparer, AGI, Fee, Paid, Efile, EfileDate and Code (Per Year)"
   ]
  },
  {
   "cell_type": "code",
   "execution_count": 12,
   "metadata": {
    "ExecuteTime": {
     "end_time": "2020-12-05T21:36:36.839534Z",
     "start_time": "2020-12-05T21:36:36.825144Z"
    }
   },
   "outputs": [],
   "source": [
    "finacols = ['Preparer16','AGI16','Fee16','Paid16','Efile16','EfileDate16','Code16',\n",
    "            'Preparer17','AGI17','Fee17','Paid17','Efile17','EfileDate17','Code17',\n",
    "            'Preparer18','AGI18','Fee18','Paid18','Efile18','EfileDate18','Code18']\n",
    "for col in finacols:\n",
    "    df[col] = df[col].fillna(value='No Return')"
   ]
  },
  {
   "cell_type": "markdown",
   "metadata": {},
   "source": [
    "#### Email, Occupation, Household Income"
   ]
  },
  {
   "cell_type": "code",
   "execution_count": 13,
   "metadata": {
    "ExecuteTime": {
     "end_time": "2020-12-05T21:36:36.844872Z",
     "start_time": "2020-12-05T21:36:36.840972Z"
    }
   },
   "outputs": [],
   "source": [
    "demcols = ['Email','Occupation','Household_Income']\n",
    "for col in demcols:\n",
    "    df[col] = df[col].fillna(value='Not Listed')"
   ]
  },
  {
   "cell_type": "markdown",
   "metadata": {},
   "source": [
    "#### Family Size, Tax Payer Age and Zip Code"
   ]
  },
  {
   "cell_type": "code",
   "execution_count": 14,
   "metadata": {
    "ExecuteTime": {
     "end_time": "2020-12-05T21:36:36.852618Z",
     "start_time": "2020-12-05T21:36:36.846303Z"
    }
   },
   "outputs": [],
   "source": [
    "cols = ['FamSize','Age','Zip']\n",
    "for col in cols:\n",
    "    df = df[df[col].notna()]"
   ]
  },
  {
   "cell_type": "markdown",
   "metadata": {},
   "source": [
    "### Verifying Null Counts"
   ]
  },
  {
   "cell_type": "code",
   "execution_count": 15,
   "metadata": {
    "ExecuteTime": {
     "end_time": "2020-12-05T21:36:36.862635Z",
     "start_time": "2020-12-05T21:36:36.853948Z"
    }
   },
   "outputs": [
    {
     "name": "stdout",
     "output_type": "stream",
     "text": [
      "Missing Values :  0\n",
      "\n",
      "\n",
      "Missing Values: \n",
      " FamSize             0\n",
      "ID                  0\n",
      "Gender              0\n",
      "Age                 0\n",
      "Sp_Age              0\n",
      "City                0\n",
      "State               0\n",
      "Zip                 0\n",
      "County              0\n",
      "Email               0\n",
      "Occupation          0\n",
      "Household_Income    0\n",
      "Preparer16          0\n",
      "FedTax16            0\n",
      "AGI16               0\n",
      "Fee16               0\n",
      "Paid16              0\n",
      "Efile16             0\n",
      "EfileDate16         0\n",
      "Code16              0\n",
      "Preparer17          0\n",
      "FedTax17            0\n",
      "AGI17               0\n",
      "Fee17               0\n",
      "Paid17              0\n",
      "Efile17             0\n",
      "EfileDate17         0\n",
      "Code17              0\n",
      "Preparer18          0\n",
      "FedTax18            0\n",
      "AGI18               0\n",
      "Fee18               0\n",
      "Paid18              0\n",
      "Efile18             0\n",
      "EfileDate18         0\n",
      "Code18              0\n",
      "dtype: int64\n"
     ]
    }
   ],
   "source": [
    "print('Missing Values : ', df.isnull().sum().values.sum()) # null values\n",
    "print('\\n')\n",
    "print('Missing Values: \\n', df.isna().sum()) # unique values per column"
   ]
  },
  {
   "cell_type": "code",
   "execution_count": 16,
   "metadata": {
    "ExecuteTime": {
     "end_time": "2020-12-05T21:36:36.869775Z",
     "start_time": "2020-12-05T21:36:36.864212Z"
    }
   },
   "outputs": [],
   "source": [
    "# Uppercase \n",
    "uppercols = ['County','City','Occupation']\n",
    "for col in uppercols:\n",
    "    df[col] = df[col].str.upper()"
   ]
  },
  {
   "cell_type": "markdown",
   "metadata": {},
   "source": [
    "### Preparer Codes"
   ]
  },
  {
   "cell_type": "markdown",
   "metadata": {},
   "source": [
    "Per the owner:\n",
    "\n",
    "* 1 = Maria\n",
    "* 3 = Rudy\n",
    "* 9 = Rose\n",
    "* 10 = Lety\n",
    "* 11 = Admin (secretary aiding completion)\n",
    "* 12 = Esther\n",
    "* 14 = Ana\n",
    "* 17 = Admin (secretary aiding completion)\n",
    "* 19 = Admin (secretary aiding completion)\n",
    "* 21 = Admin (secretary aiding completion)\n",
    "* 23 = Admin (secretary aiding completion)\n",
    "* 25 = Admin (secretary aiding completion)\n",
    "* 26 = Laura\n",
    "\n",
    "Secretary names in the preparer field to be changed to admin are: Bianca, Mayra, None, Nallely, Angelica and Jesus."
   ]
  },
  {
   "cell_type": "code",
   "execution_count": 17,
   "metadata": {
    "ExecuteTime": {
     "end_time": "2020-12-05T21:36:36.883761Z",
     "start_time": "2020-12-05T21:36:36.871181Z"
    }
   },
   "outputs": [],
   "source": [
    "# replacing preparer values with names\n",
    "dictvals = {'1':'MARIA','3':'RUDY','9':'ROSE','10':'LETY','11':'ADMIN','12':'ESTHER',\n",
    "            '14':'ANA','17':'ADMIN','19':'ADMIN','21':'ADMIN','23':'ADMIN',\n",
    "            '25':'ADMIN','26':'LAURA','27':'ADMIN','28':'ADMIN','BIANCA':'ADMIN',\n",
    "            'Mayra':'ADMIN','None':'ADMIN','Nallely':'ADMIN','Angelica':'ADMIN',\n",
    "            'Jesus':'ADMIN','No Return':'No Return'}\n",
    "\n",
    "\n",
    "prepcols = ['Preparer16','Preparer17','Preparer18']\n",
    "for col in prepcols:\n",
    "    df[col] = df[col].replace(dictvals)#.fillna()"
   ]
  },
  {
   "cell_type": "markdown",
   "metadata": {},
   "source": [
    "## Segmentation Methodology"
   ]
  },
  {
   "cell_type": "markdown",
   "metadata": {},
   "source": [
    "The metric that will be used in filtering is AGI (adjusted gross income) which represents a mandatory field (even if that field is zero) when sending a return to the Government. Null values represent clients that existed in one year but not another and are denoted by the fill value 'No Return.'\n",
    "\n",
    "Three Years of Income\n",
    "\n",
    "Sorting: customer lost, customer retained, return customer and new customer \n",
    "\n",
    "* 1) Customer Lost | 2016 - 2017 - (n/a)\n",
    "* 2) Return Customer | 2016 - (n/a) - 2018\n",
    "* 3) Customer Retained | 2016 - 2017 - 2018\n",
    "* 4) Customer Retained | (n/a) - 2017 - 2018\n",
    "* 5) Customer Lost | (n/a) - 2017 - (n/a)\n",
    "* 6) New Customer | (n/a) - (n/a) - 2018"
   ]
  },
  {
   "cell_type": "markdown",
   "metadata": {},
   "source": [
    "### Customers Lost"
   ]
  },
  {
   "cell_type": "markdown",
   "metadata": {},
   "source": [
    "* 1) Customer Lost | 2016 - 2017 - (n/a)\n",
    "* 5) Customer Lost | (n/a) - 2017 - (n/a)"
   ]
  },
  {
   "cell_type": "code",
   "execution_count": 18,
   "metadata": {
    "ExecuteTime": {
     "end_time": "2020-12-05T21:36:36.888279Z",
     "start_time": "2020-12-05T21:36:36.885137Z"
    }
   },
   "outputs": [],
   "source": [
    "# Keeping valid 2017 returns\n",
    "lost = df[df['AGI17'] != 'No Return']"
   ]
  },
  {
   "cell_type": "code",
   "execution_count": 19,
   "metadata": {
    "ExecuteTime": {
     "end_time": "2020-12-05T21:36:36.892486Z",
     "start_time": "2020-12-05T21:36:36.889604Z"
    }
   },
   "outputs": [],
   "source": [
    "# Keeping valid 2017 returns with invalid 2018 values (customers lost)\n",
    "lost = lost[lost['AGI18'] == 'No Return']"
   ]
  },
  {
   "cell_type": "code",
   "execution_count": 20,
   "metadata": {
    "ExecuteTime": {
     "end_time": "2020-12-05T21:36:36.897236Z",
     "start_time": "2020-12-05T21:36:36.893742Z"
    }
   },
   "outputs": [],
   "source": [
    "lost = lost[['FamSize','ID','Age','Gender','Sp_Age','City','State','Zip','County',\n",
    "             'Email','Occupation','Household_Income','Efile16','EfileDate16','Paid16',\n",
    "             'Efile17','EfileDate17','Paid17','Efile18','EfileDate18','Paid18',\n",
    "             'Preparer17','FedTax17','AGI17','Fee17','Code17']]"
   ]
  },
  {
   "cell_type": "code",
   "execution_count": 21,
   "metadata": {
    "ExecuteTime": {
     "end_time": "2020-12-05T21:36:36.902150Z",
     "start_time": "2020-12-05T21:36:36.898528Z"
    }
   },
   "outputs": [],
   "source": [
    "lost['Paid'] = lost['Paid17']\n",
    "lost['LastEfileDate'] = lost['EfileDate17']\n",
    "lost['Customer_Churn'] = 'Yes'"
   ]
  },
  {
   "cell_type": "code",
   "execution_count": 22,
   "metadata": {
    "ExecuteTime": {
     "end_time": "2020-12-05T21:36:36.906195Z",
     "start_time": "2020-12-05T21:36:36.903449Z"
    }
   },
   "outputs": [],
   "source": [
    "# Last prep, tax, AGI, fee, paid and code for analysis\n",
    "lost = lost.rename(columns={'Preparer17':'Preparer','FedTax17':'FedTax','AGI17':'AGI',\n",
    "                            'Fee17':'Fee','Code17':'Code'})"
   ]
  },
  {
   "cell_type": "markdown",
   "metadata": {},
   "source": [
    "### Customers Retained"
   ]
  },
  {
   "cell_type": "markdown",
   "metadata": {},
   "source": [
    "* 3) Customer Retained | 2016 - 2017 - 2018\n",
    "* 4) Customer Retained | (n/a) - 2017 - 2018"
   ]
  },
  {
   "cell_type": "code",
   "execution_count": 23,
   "metadata": {
    "ExecuteTime": {
     "end_time": "2020-12-05T21:36:36.913910Z",
     "start_time": "2020-12-05T21:36:36.910824Z"
    }
   },
   "outputs": [],
   "source": [
    "# Keeping valid 2017 returns\n",
    "retained = df[df['AGI17'] != 'No Return']"
   ]
  },
  {
   "cell_type": "code",
   "execution_count": 24,
   "metadata": {
    "ExecuteTime": {
     "end_time": "2020-12-05T21:36:36.919582Z",
     "start_time": "2020-12-05T21:36:36.916535Z"
    }
   },
   "outputs": [],
   "source": [
    "# Keeping valid 2018 returns\n",
    "retained = retained[retained['AGI18'] != 'No Return']"
   ]
  },
  {
   "cell_type": "code",
   "execution_count": 25,
   "metadata": {
    "ExecuteTime": {
     "end_time": "2020-12-05T21:36:36.925084Z",
     "start_time": "2020-12-05T21:36:36.921000Z"
    }
   },
   "outputs": [],
   "source": [
    "retained = retained[['FamSize','ID','Age','Gender','Sp_Age','City','State','Zip',\n",
    "                     'County','Email','Occupation','Household_Income','Efile16',\n",
    "                     'EfileDate16','Paid16','Efile17','EfileDate17','Paid17',\n",
    "                     'Efile18','EfileDate18','Paid18','Preparer18','FedTax18',\n",
    "                     'AGI18','Fee18','Code18']]"
   ]
  },
  {
   "cell_type": "code",
   "execution_count": 26,
   "metadata": {
    "ExecuteTime": {
     "end_time": "2020-12-05T21:36:36.930592Z",
     "start_time": "2020-12-05T21:36:36.926548Z"
    }
   },
   "outputs": [],
   "source": [
    "retained['Paid'] = retained['Paid18']\n",
    "retained['LastEfileDate'] = retained['EfileDate18']\n",
    "retained['Customer_Churn'] = 'No'"
   ]
  },
  {
   "cell_type": "code",
   "execution_count": 27,
   "metadata": {
    "ExecuteTime": {
     "end_time": "2020-12-05T21:36:36.935330Z",
     "start_time": "2020-12-05T21:36:36.932078Z"
    }
   },
   "outputs": [],
   "source": [
    "# Last prep, tax, AGI, fee, paid and code for analysis\n",
    "retained = retained.rename(columns={'Preparer18':'Preparer','FedTax18':'FedTax',\n",
    "                                    'AGI18':'AGI','Fee18':'Fee','Code18':'Code'})"
   ]
  },
  {
   "cell_type": "markdown",
   "metadata": {},
   "source": [
    "### New Customers"
   ]
  },
  {
   "cell_type": "markdown",
   "metadata": {},
   "source": [
    "* 6) New Customer | (n/a) - (n/a) - 2018"
   ]
  },
  {
   "cell_type": "code",
   "execution_count": 28,
   "metadata": {
    "ExecuteTime": {
     "end_time": "2020-12-05T21:36:36.940112Z",
     "start_time": "2020-12-05T21:36:36.936869Z"
    }
   },
   "outputs": [],
   "source": [
    "# Keeping invalid 2017 returns\n",
    "new = df[df['AGI17'] == 'No Return']"
   ]
  },
  {
   "cell_type": "code",
   "execution_count": 29,
   "metadata": {
    "ExecuteTime": {
     "end_time": "2020-12-05T21:36:36.944943Z",
     "start_time": "2020-12-05T21:36:36.941589Z"
    }
   },
   "outputs": [],
   "source": [
    "# Keeping invalid 2016 returns\n",
    "new = new[new['AGI16'] == 'No Return']"
   ]
  },
  {
   "cell_type": "code",
   "execution_count": 30,
   "metadata": {
    "ExecuteTime": {
     "end_time": "2020-12-05T21:36:36.950425Z",
     "start_time": "2020-12-05T21:36:36.946439Z"
    }
   },
   "outputs": [],
   "source": [
    "new = new[['FamSize','ID','Age','Gender','Sp_Age','City','State','Zip','County',\n",
    "           'Email','Occupation','Household_Income','Efile16','EfileDate16','Paid16',\n",
    "           'Efile17','EfileDate17','Paid17','Efile18','EfileDate18','Paid18','Preparer18',\n",
    "           'FedTax18','AGI18','Fee18','Code18']]"
   ]
  },
  {
   "cell_type": "code",
   "execution_count": 31,
   "metadata": {
    "ExecuteTime": {
     "end_time": "2020-12-05T21:36:36.955570Z",
     "start_time": "2020-12-05T21:36:36.951919Z"
    }
   },
   "outputs": [],
   "source": [
    "new['Paid'] = new['Paid18']\n",
    "new['LastEfileDate'] = new['EfileDate18']\n",
    "new['Customer_Churn'] = 'New'"
   ]
  },
  {
   "cell_type": "code",
   "execution_count": 32,
   "metadata": {
    "ExecuteTime": {
     "end_time": "2020-12-05T21:36:36.959760Z",
     "start_time": "2020-12-05T21:36:36.956917Z"
    }
   },
   "outputs": [],
   "source": [
    "# Last prep, tax, AGI, fee, paid and code for analysis\n",
    "new = new.rename(columns={'Preparer18':'Preparer','FedTax18':'FedTax','AGI18':'AGI',\n",
    "                          'Fee18':'Fee','Code18':'Code'})"
   ]
  },
  {
   "cell_type": "markdown",
   "metadata": {},
   "source": [
    "### Return Customers"
   ]
  },
  {
   "cell_type": "markdown",
   "metadata": {},
   "source": [
    "* 2) Return Customer | 2016 - (n/a) - 2018"
   ]
  },
  {
   "cell_type": "code",
   "execution_count": 33,
   "metadata": {
    "ExecuteTime": {
     "end_time": "2020-12-05T21:36:36.964215Z",
     "start_time": "2020-12-05T21:36:36.961166Z"
    }
   },
   "outputs": [],
   "source": [
    "# Keeping invalid 2017 returns\n",
    "returncust = df[df['AGI17'] == 'No Return']"
   ]
  },
  {
   "cell_type": "code",
   "execution_count": 34,
   "metadata": {
    "ExecuteTime": {
     "end_time": "2020-12-05T21:36:36.968641Z",
     "start_time": "2020-12-05T21:36:36.965660Z"
    }
   },
   "outputs": [],
   "source": [
    "# Keeping valid 2016 returns\n",
    "returncust = returncust[returncust['AGI16'] != 'No Return']"
   ]
  },
  {
   "cell_type": "code",
   "execution_count": 35,
   "metadata": {
    "ExecuteTime": {
     "end_time": "2020-12-05T21:36:36.973152Z",
     "start_time": "2020-12-05T21:36:36.970156Z"
    }
   },
   "outputs": [],
   "source": [
    "# Keeping valid 2018 returns\n",
    "returncust = returncust[returncust['AGI18'] != 'No Return']"
   ]
  },
  {
   "cell_type": "code",
   "execution_count": 36,
   "metadata": {
    "ExecuteTime": {
     "end_time": "2020-12-05T21:36:36.978432Z",
     "start_time": "2020-12-05T21:36:36.974621Z"
    }
   },
   "outputs": [],
   "source": [
    "returncust = returncust[['FamSize','ID','Age','Gender','Sp_Age','City','State',\n",
    "                         'Zip','County','Email','Occupation','Household_Income',\n",
    "                         'Efile16','EfileDate16','Paid16','Efile17','EfileDate17',\n",
    "                         'Paid17','Efile18','EfileDate18','Paid18','Preparer18',\n",
    "                         'FedTax18','AGI18','Fee18','Code18']]"
   ]
  },
  {
   "cell_type": "code",
   "execution_count": 37,
   "metadata": {
    "ExecuteTime": {
     "end_time": "2020-12-05T21:36:36.984324Z",
     "start_time": "2020-12-05T21:36:36.979933Z"
    }
   },
   "outputs": [],
   "source": [
    "returncust['Paid'] = returncust['Paid18']\n",
    "returncust['LastEfileDate'] = returncust['EfileDate18']\n",
    "returncust['Customer_Churn'] = 'return'"
   ]
  },
  {
   "cell_type": "code",
   "execution_count": 38,
   "metadata": {
    "ExecuteTime": {
     "end_time": "2020-12-05T21:36:36.989092Z",
     "start_time": "2020-12-05T21:36:36.985884Z"
    }
   },
   "outputs": [],
   "source": [
    "# Last prep, tax, AGI, fee, paid and code for analysis\n",
    "returncust = returncust.rename(columns={'Preparer18':'Preparer','FedTax18':'FedTax',\n",
    "                                        'AGI18':'AGI','Fee18':'Fee','Code18':'Code'})"
   ]
  },
  {
   "cell_type": "markdown",
   "metadata": {},
   "source": [
    "# Updated Dataframe\n",
    "#### Concatenating each updated section of our data frame representing customers that were new, lost, retained and returned."
   ]
  },
  {
   "cell_type": "code",
   "execution_count": 39,
   "metadata": {
    "ExecuteTime": {
     "end_time": "2020-12-05T21:36:37.000879Z",
     "start_time": "2020-12-05T21:36:36.990557Z"
    }
   },
   "outputs": [],
   "source": [
    "frames = [lost, retained, new, returncust]\n",
    "df2 = pd.concat(frames)"
   ]
  },
  {
   "cell_type": "markdown",
   "metadata": {},
   "source": [
    "# Final Cleaning (Full DataFrame)"
   ]
  },
  {
   "cell_type": "markdown",
   "metadata": {},
   "source": [
    "### Cleaning Time Based Values"
   ]
  },
  {
   "cell_type": "code",
   "execution_count": 40,
   "metadata": {
    "ExecuteTime": {
     "end_time": "2020-12-05T21:36:37.016200Z",
     "start_time": "2020-12-05T21:36:37.002227Z"
    }
   },
   "outputs": [],
   "source": [
    "cols = ['EfileDate16','EfileDate17','EfileDate18','LastEfileDate']\n",
    "for col in cols:\n",
    "    df2 = df2[df2[col] != 'Gads']\n",
    "    df2 = df2[df2[col] != 'Yuma']\n",
    "    df2 = df2[df2[col] != 'San']"
   ]
  },
  {
   "cell_type": "markdown",
   "metadata": {},
   "source": [
    "### Cleaning Columns"
   ]
  },
  {
   "cell_type": "code",
   "execution_count": 41,
   "metadata": {
    "ExecuteTime": {
     "end_time": "2020-12-05T21:36:37.021177Z",
     "start_time": "2020-12-05T21:36:37.017660Z"
    }
   },
   "outputs": [],
   "source": [
    "# Cleaning invalid county value\n",
    "df2 = df2[df2['County'] != 'UNITED STATES']"
   ]
  },
  {
   "cell_type": "code",
   "execution_count": 42,
   "metadata": {
    "ExecuteTime": {
     "end_time": "2020-12-05T21:36:37.025577Z",
     "start_time": "2020-12-05T21:36:37.022631Z"
    }
   },
   "outputs": [],
   "source": [
    "# Consolidating/converting house hold income values\n",
    "df2['Household_Income'] = df2['Household_Income'].replace('Not Listed','UNEMPLOYED')"
   ]
  },
  {
   "cell_type": "code",
   "execution_count": 43,
   "metadata": {
    "ExecuteTime": {
     "end_time": "2020-12-05T21:36:37.030066Z",
     "start_time": "2020-12-05T21:36:37.026966Z"
    }
   },
   "outputs": [],
   "source": [
    "df2['Household_Income'] = df2['Household_Income'].map(lambda s :'Single Income' if s == 'UNEMPLOYED' else 'Dual Income')"
   ]
  },
  {
   "cell_type": "markdown",
   "metadata": {},
   "source": [
    "### Converting Last Efile Date using Date Time"
   ]
  },
  {
   "cell_type": "code",
   "execution_count": 44,
   "metadata": {
    "ExecuteTime": {
     "end_time": "2020-12-05T21:36:37.037727Z",
     "start_time": "2020-12-05T21:36:37.031395Z"
    }
   },
   "outputs": [],
   "source": [
    "# adding a first value to create full date/extend dates in full format\n",
    "df2['tempdate'] = '0' + df2['LastEfileDate']"
   ]
  },
  {
   "cell_type": "code",
   "execution_count": 45,
   "metadata": {
    "ExecuteTime": {
     "end_time": "2020-12-05T21:36:37.043687Z",
     "start_time": "2020-12-05T21:36:37.039071Z"
    }
   },
   "outputs": [],
   "source": [
    "# Last 4 values (year)\n",
    "df2['Year'] = df2['tempdate'].str[-4:]\n",
    "# Mid values -6 to -4 (day)\n",
    "df2['Day'] = df2['tempdate'].str[-6:-4]"
   ]
  },
  {
   "cell_type": "code",
   "execution_count": 46,
   "metadata": {
    "ExecuteTime": {
     "end_time": "2020-12-05T21:36:37.049628Z",
     "start_time": "2020-12-05T21:36:37.045068Z"
    }
   },
   "outputs": [],
   "source": [
    "# Leftover data - should be in 2's and 3's\n",
    "df2['temp'] = df2['tempdate'].str[0:-6]\n",
    "# Pull the month (right values) but ID'd for convenience\n",
    "df2['Month'] = df2['temp'].str[-2:]"
   ]
  },
  {
   "cell_type": "code",
   "execution_count": 47,
   "metadata": {
    "ExecuteTime": {
     "end_time": "2020-12-05T21:36:37.054634Z",
     "start_time": "2020-12-05T21:36:37.050977Z"
    }
   },
   "outputs": [],
   "source": [
    "# Full Date\n",
    "df2['LastEfileDate'] = df2['Month']+'-'+df2['Day']+'-'+df2['Year']"
   ]
  },
  {
   "cell_type": "code",
   "execution_count": 48,
   "metadata": {
    "ExecuteTime": {
     "end_time": "2020-12-05T21:36:37.060274Z",
     "start_time": "2020-12-05T21:36:37.056057Z"
    }
   },
   "outputs": [],
   "source": [
    "df2.drop(['tempdate','Year','Day','temp','Month'],axis=1,inplace=True)"
   ]
  },
  {
   "cell_type": "code",
   "execution_count": 49,
   "metadata": {
    "ExecuteTime": {
     "end_time": "2020-12-05T21:36:37.068263Z",
     "start_time": "2020-12-05T21:36:37.061556Z"
    }
   },
   "outputs": [],
   "source": [
    "df2['LastDate'] = pd.to_datetime(df2['LastEfileDate'], format='%m-%d-%Y')\n",
    "df2.set_index('LastDate', inplace=True)"
   ]
  },
  {
   "cell_type": "code",
   "execution_count": 50,
   "metadata": {
    "ExecuteTime": {
     "end_time": "2020-12-05T21:36:37.082049Z",
     "start_time": "2020-12-05T21:36:37.069696Z"
    }
   },
   "outputs": [],
   "source": [
    "# Feature engineer month name on last efile transmission per client\n",
    "df2['Month'] = df2.index.strftime('%B')"
   ]
  },
  {
   "cell_type": "code",
   "execution_count": 51,
   "metadata": {
    "ExecuteTime": {
     "end_time": "2020-12-05T21:36:37.093619Z",
     "start_time": "2020-12-05T21:36:37.083280Z"
    }
   },
   "outputs": [],
   "source": [
    "# Feature engineer day of the week (name) on last efile transmission per client\n",
    "df2['Day'] = df2.index.strftime('%A')"
   ]
  },
  {
   "cell_type": "code",
   "execution_count": 52,
   "metadata": {
    "ExecuteTime": {
     "end_time": "2020-12-05T21:36:37.100042Z",
     "start_time": "2020-12-05T21:36:37.095076Z"
    }
   },
   "outputs": [],
   "source": [
    "# Rearrange for aesthetics\n",
    "df2 = df2[['FamSize','ID','Age','Gender','Sp_Age','City','State','Zip','County',\n",
    "           'Email','Occupation','Household_Income','Efile16','EfileDate16','Paid16',\n",
    "           'Efile17','EfileDate17','Paid17','Efile18','EfileDate18','Paid18','Preparer',\n",
    "           'FedTax','AGI','Fee','Code','Paid','LastEfileDate','Month','Day','Customer_Churn']]"
   ]
  },
  {
   "cell_type": "markdown",
   "metadata": {},
   "source": [
    "# Export File For Analysis"
   ]
  },
  {
   "cell_type": "code",
   "execution_count": null,
   "metadata": {
    "ExecuteTime": {
     "end_time": "2020-12-01T07:41:11.950742Z",
     "start_time": "2020-12-01T07:41:11.916082Z"
    }
   },
   "outputs": [],
   "source": [
    "df2.to_csv('taxdata.csv') # full data"
   ]
  },
  {
   "cell_type": "markdown",
   "metadata": {},
   "source": [
    "# Notebooks\n",
    "Please see our jupyter notebooks 'Clustering.ipynb' and 'Customer_Churn.ipynb' for additional analysis."
   ]
  },
  {
   "cell_type": "code",
   "execution_count": null,
   "metadata": {},
   "outputs": [],
   "source": []
  }
 ],
 "metadata": {
  "kernelspec": {
   "display_name": "Python [conda env:learn-env] *",
   "language": "python",
   "name": "conda-env-learn-env-py"
  },
  "language_info": {
   "codemirror_mode": {
    "name": "ipython",
    "version": 3
   },
   "file_extension": ".py",
   "mimetype": "text/x-python",
   "name": "python",
   "nbconvert_exporter": "python",
   "pygments_lexer": "ipython3",
   "version": "3.6.9"
  },
  "toc": {
   "base_numbering": 1,
   "nav_menu": {},
   "number_sections": true,
   "sideBar": true,
   "skip_h1_title": false,
   "title_cell": "Table of Contents",
   "title_sidebar": "Contents",
   "toc_cell": false,
   "toc_position": {
    "height": "calc(100% - 180px)",
    "left": "10px",
    "top": "150px",
    "width": "165px"
   },
   "toc_section_display": true,
   "toc_window_display": true
  }
 },
 "nbformat": 4,
 "nbformat_minor": 2
}
